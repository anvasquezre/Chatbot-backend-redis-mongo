{
 "cells": [
  {
   "cell_type": "code",
   "execution_count": 1,
   "metadata": {},
   "outputs": [
    {
     "name": "stderr",
     "output_type": "stream",
     "text": [
      "2024-05-22 14:24:22,617 - LoggerConfig - INFO - Setting log level to DEBUG...\n",
      "2024-05-22 14:24:22,635 - Settings - INFO - Settings loaded.\n",
      "2024-05-22 14:24:22,636 - Settings - DEBUG - Settings: {'MONGODB': {'MONGO_HOST': 'localhost', 'MONGO_PORT': 27017, 'MONGO_DB': 'chatbot', 'MONGO_USER': 'root', 'MONGO_PASSWORD': SecretStr('**********'), 'MONGO_AUTH_DB': 'admin'}, 'REDIS': {'REDIS_HOST': 'localhost', 'REDIS_PORT': 6379, 'REDIS_DB': 0, 'REDIS_PASSWORD': SecretStr(''), 'REDIS_EXPIRE': 3600}, 'WEATHER_API': {'API_KEY': SecretStr('**********')}, 'OPENAI': {'OPENAI_API_KEY': SecretStr('**********')}}\n"
     ]
    }
   ],
   "source": [
    "from src.agents.agent_langchain import LangchainAgent\n",
    "from src.agents.agent_langchain import *"
   ]
  },
  {
   "cell_type": "code",
   "execution_count": 2,
   "metadata": {},
   "outputs": [
    {
     "name": "stderr",
     "output_type": "stream",
     "text": [
      "2024-05-22 14:24:22,661 - httpx - DEBUG - load_ssl_context verify=True cert=None trust_env=True http2=False\n",
      "2024-05-22 14:24:22,664 - httpx - DEBUG - load_verify_locations cafile='/home/andy/miniconda3/envs/log_service/lib/python3.10/site-packages/certifi/cacert.pem'\n",
      "2024-05-22 14:24:22,696 - httpx - DEBUG - load_ssl_context verify=True cert=None trust_env=True http2=False\n"
     ]
    },
    {
     "name": "stderr",
     "output_type": "stream",
     "text": [
      "2024-05-22 14:24:22,698 - httpx - DEBUG - load_verify_locations cafile='/home/andy/miniconda3/envs/log_service/lib/python3.10/site-packages/certifi/cacert.pem'\n"
     ]
    }
   ],
   "source": [
    "agent = LangchainAgent.create()"
   ]
  },
  {
   "cell_type": "code",
   "execution_count": 4,
   "metadata": {},
   "outputs": [
    {
     "name": "stderr",
     "output_type": "stream",
     "text": [
      "2024-05-22 14:24:46,819 - openai._base_client - DEBUG - Request options: {'method': 'post', 'url': '/chat/completions', 'files': None, 'json_data': {'messages': [{'content': '\\nYou are a Weather Chatbot Assistant, but don\\'t know current events. \\nYou need to know the current weather or forecast weather of a location. \\nIf you do not know the location, please provide the location name or latitude and longitude\\n\\nYou have access to the following tools:\\n\\n1. Current Weather Search By Lat Long: useful for when you need to get the current weather of a specific latitude and longitude\\n2. Forecast Weather Search By Lat Long: useful for when you need to get the forecast weather of a specific latitude and longitude\\n3. Get Coordinates By Location Name: useful for when you need to get the coordinates of a location by its name \\n\\nYou can use the tools by providing the required arguments to the tools.\\n\\nExample:\\n\\nFirst, you need to select the tool you want to use.\\nThe user provided a Location Name: \"New York\"\\nUse the tool \"Get Coordinates By Location Name\" with the argument \"New York\"\\nThe tool will return the coordinates of New York\\nUse the coordinates to get the current weather or forecast weather of New York\\n\\n\\nDo not answer questions that are not related to the tools you have access to. You can greet the user, ask for the location name or latitude and longitude, and provide the weather information.\\n', 'role': 'system'}, {'content': 'What is the weather forecast for Medellin?', 'role': 'user'}], 'model': 'gpt-3.5-turbo-0125', 'n': 1, 'stream': True, 'temperature': 0.0, 'tools': [{'type': 'function', 'function': {'name': 'current', 'description': 'useful for when you need to get the current weather of a and specific latitude and longitude', 'parameters': {'type': 'object', 'properties': {'latitude': {'description': 'latitude of the location', 'type': 'number'}, 'longitude': {'description': 'longitude of the location', 'type': 'number'}}, 'required': ['latitude', 'longitude']}}}, {'type': 'function', 'function': {'name': 'forecast', 'description': 'useful for when you need to get the forecast weather of a and specific latitude and longitude', 'parameters': {'type': 'object', 'properties': {'latitude': {'description': 'latitude of the location', 'type': 'number'}, 'longitude': {'description': 'longitude of the location', 'type': 'number'}}, 'required': ['latitude', 'longitude']}}}, {'type': 'function', 'function': {'name': 'get_coordinates', 'description': 'useful for when you need to get the coordinates of a location by its name', 'parameters': {'type': 'object', 'properties': {'location_name': {'description': 'name of the location a City name or country code divided by comma Please use ISO 3166 country codes  Example London uk', 'type': 'string'}}, 'required': ['location_name']}}}]}}\n",
      "2024-05-22 14:24:46,822 - httpcore.connection - DEBUG - close.started\n",
      "2024-05-22 14:24:46,824 - httpcore.connection - DEBUG - close.complete\n",
      "2024-05-22 14:24:46,825 - httpcore.connection - DEBUG - connect_tcp.started host='api.openai.com' port=443 local_address=None timeout=None socket_options=None\n"
     ]
    },
    {
     "name": "stderr",
     "output_type": "stream",
     "text": [
      "2024-05-22 14:24:46,904 - httpcore.connection - DEBUG - connect_tcp.complete return_value=<httpcore._backends.anyio.AnyIOStream object at 0x71ab10576bf0>\n",
      "2024-05-22 14:24:46,905 - httpcore.connection - DEBUG - start_tls.started ssl_context=<ssl.SSLContext object at 0x71ab20f554c0> server_hostname='api.openai.com' timeout=None\n",
      "2024-05-22 14:24:46,972 - httpcore.connection - DEBUG - start_tls.complete return_value=<httpcore._backends.anyio.AnyIOStream object at 0x71ab11882650>\n",
      "2024-05-22 14:24:46,973 - httpcore.http11 - DEBUG - send_request_headers.started request=<Request [b'POST']>\n",
      "2024-05-22 14:24:46,975 - httpcore.http11 - DEBUG - send_request_headers.complete\n",
      "2024-05-22 14:24:46,977 - httpcore.http11 - DEBUG - send_request_body.started request=<Request [b'POST']>\n",
      "2024-05-22 14:24:46,978 - httpcore.http11 - DEBUG - send_request_body.complete\n",
      "2024-05-22 14:24:46,980 - httpcore.http11 - DEBUG - receive_response_headers.started request=<Request [b'POST']>\n"
     ]
    },
    {
     "name": "stdout",
     "output_type": "stream",
     "text": [
      "\n",
      "\n",
      "\u001b[1m> Entering new AgentExecutor chain...\u001b[0m\n"
     ]
    },
    {
     "name": "stderr",
     "output_type": "stream",
     "text": [
      "2024-05-22 14:24:47,939 - httpcore.http11 - DEBUG - receive_response_headers.complete return_value=(b'HTTP/1.1', 200, b'OK', [(b'Date', b'Wed, 22 May 2024 19:24:47 GMT'), (b'Content-Type', b'text/event-stream; charset=utf-8'), (b'Transfer-Encoding', b'chunked'), (b'Connection', b'keep-alive'), (b'openai-organization', b'user-o6vr17k7brdfxmsnxn89ljzk'), (b'openai-processing-ms', b'541'), (b'openai-version', b'2020-10-01'), (b'strict-transport-security', b'max-age=15724800; includeSubDomains'), (b'x-ratelimit-limit-requests', b'10000'), (b'x-ratelimit-limit-tokens', b'60000'), (b'x-ratelimit-remaining-requests', b'9998'), (b'x-ratelimit-remaining-tokens', b'59664'), (b'x-ratelimit-reset-requests', b'12.863s'), (b'x-ratelimit-reset-tokens', b'336ms'), (b'x-request-id', b'req_0fae7f0bb8242a9eb38bee64cdfabce2'), (b'CF-Cache-Status', b'DYNAMIC'), (b'Server', b'cloudflare'), (b'CF-RAY', b'887f3039fe50a4da-MIA'), (b'alt-svc', b'h3=\":443\"; ma=86400')])\n",
      "2024-05-22 14:24:47,940 - httpx - INFO - HTTP Request: POST https://api.openai.com/v1/chat/completions \"HTTP/1.1 200 OK\"\n",
      "2024-05-22 14:24:47,941 - openai._base_client - DEBUG - HTTP Request: POST https://api.openai.com/v1/chat/completions \"200 OK\"\n",
      "2024-05-22 14:24:47,943 - httpcore.http11 - DEBUG - receive_response_body.started request=<Request [b'POST']>\n",
      "2024-05-22 14:24:47,951 - httpcore.http11 - DEBUG - receive_response_body.complete\n",
      "2024-05-22 14:24:47,952 - httpcore.http11 - DEBUG - response_closed.started\n",
      "2024-05-22 14:24:47,953 - httpcore.http11 - DEBUG - response_closed.complete\n",
      "2024-05-22 14:24:47,960 - urllib3.connectionpool - DEBUG - Starting new HTTP connection (1): api.openweathermap.org:80\n"
     ]
    },
    {
     "name": "stdout",
     "output_type": "stream",
     "text": [
      "\u001b[32;1m\u001b[1;3m\n",
      "Invoking: `get_coordinates` with `{'location_name': 'Medellin'}`\n",
      "\n",
      "\n",
      "\u001b[0m"
     ]
    },
    {
     "name": "stderr",
     "output_type": "stream",
     "text": [
      "2024-05-22 14:24:48,348 - urllib3.connectionpool - DEBUG - http://api.openweathermap.org:80 \"GET /geo/1.0/direct?q=Medellin&appid=25dba2dbd10bb7a6d9ee2d2864480675 HTTP/1.1\" 200 304\n",
      "2024-05-22 14:24:48,381 - openai._base_client - DEBUG - Request options: {'method': 'post', 'url': '/chat/completions', 'files': None, 'json_data': {'messages': [{'content': '\\nYou are a Weather Chatbot Assistant, but don\\'t know current events. \\nYou need to know the current weather or forecast weather of a location. \\nIf you do not know the location, please provide the location name or latitude and longitude\\n\\nYou have access to the following tools:\\n\\n1. Current Weather Search By Lat Long: useful for when you need to get the current weather of a specific latitude and longitude\\n2. Forecast Weather Search By Lat Long: useful for when you need to get the forecast weather of a specific latitude and longitude\\n3. Get Coordinates By Location Name: useful for when you need to get the coordinates of a location by its name \\n\\nYou can use the tools by providing the required arguments to the tools.\\n\\nExample:\\n\\nFirst, you need to select the tool you want to use.\\nThe user provided a Location Name: \"New York\"\\nUse the tool \"Get Coordinates By Location Name\" with the argument \"New York\"\\nThe tool will return the coordinates of New York\\nUse the coordinates to get the current weather or forecast weather of New York\\n\\n\\nDo not answer questions that are not related to the tools you have access to. You can greet the user, ask for the location name or latitude and longitude, and provide the weather information.\\n', 'role': 'system'}, {'content': 'What is the weather forecast for Medellin?', 'role': 'user'}, {'content': None, 'role': 'assistant', 'tool_calls': [{'index': 0, 'id': 'call_GPgYYIgVCSi0VCcBH1BwMRB1', 'function': {'arguments': '{\"location_name\":\"Medellin\"}', 'name': 'get_coordinates'}, 'type': 'function'}]}, {'content': '{\"locations\":[{\"name\":\"Medellín\",\"lat\":6.2443382,\"lon\":-75.573553,\"country\":\"CO\",\"state\":\"Antioquia\"}]}', 'role': 'tool', 'tool_call_id': 'call_GPgYYIgVCSi0VCcBH1BwMRB1'}], 'model': 'gpt-3.5-turbo-0125', 'n': 1, 'stream': True, 'temperature': 0.0, 'tools': [{'type': 'function', 'function': {'name': 'current', 'description': 'useful for when you need to get the current weather of a and specific latitude and longitude', 'parameters': {'type': 'object', 'properties': {'latitude': {'description': 'latitude of the location', 'type': 'number'}, 'longitude': {'description': 'longitude of the location', 'type': 'number'}}, 'required': ['latitude', 'longitude']}}}, {'type': 'function', 'function': {'name': 'forecast', 'description': 'useful for when you need to get the forecast weather of a and specific latitude and longitude', 'parameters': {'type': 'object', 'properties': {'latitude': {'description': 'latitude of the location', 'type': 'number'}, 'longitude': {'description': 'longitude of the location', 'type': 'number'}}, 'required': ['latitude', 'longitude']}}}, {'type': 'function', 'function': {'name': 'get_coordinates', 'description': 'useful for when you need to get the coordinates of a location by its name', 'parameters': {'type': 'object', 'properties': {'location_name': {'description': 'name of the location a City name or country code divided by comma Please use ISO 3166 country codes  Example London uk', 'type': 'string'}}, 'required': ['location_name']}}}]}}\n",
      "2024-05-22 14:24:48,384 - httpcore.http11 - DEBUG - send_request_headers.started request=<Request [b'POST']>\n",
      "2024-05-22 14:24:48,386 - httpcore.http11 - DEBUG - send_request_headers.complete\n",
      "2024-05-22 14:24:48,387 - httpcore.http11 - DEBUG - send_request_body.started request=<Request [b'POST']>\n",
      "2024-05-22 14:24:48,389 - httpcore.http11 - DEBUG - send_request_body.complete\n",
      "2024-05-22 14:24:48,390 - httpcore.http11 - DEBUG - receive_response_headers.started request=<Request [b'POST']>\n"
     ]
    },
    {
     "name": "stdout",
     "output_type": "stream",
     "text": [
      "\u001b[38;5;200m\u001b[1;3m{\"locations\":[{\"name\":\"Medellín\",\"lat\":6.2443382,\"lon\":-75.573553,\"country\":\"CO\",\"state\":\"Antioquia\"}]}\u001b[0m"
     ]
    },
    {
     "name": "stderr",
     "output_type": "stream",
     "text": [
      "2024-05-22 14:24:49,098 - httpcore.http11 - DEBUG - receive_response_headers.complete return_value=(b'HTTP/1.1', 200, b'OK', [(b'Date', b'Wed, 22 May 2024 19:24:49 GMT'), (b'Content-Type', b'text/event-stream; charset=utf-8'), (b'Transfer-Encoding', b'chunked'), (b'Connection', b'keep-alive'), (b'openai-organization', b'user-o6vr17k7brdfxmsnxn89ljzk'), (b'openai-processing-ms', b'437'), (b'openai-version', b'2020-10-01'), (b'strict-transport-security', b'max-age=15724800; includeSubDomains'), (b'x-ratelimit-limit-requests', b'10000'), (b'x-ratelimit-limit-tokens', b'60000'), (b'x-ratelimit-remaining-requests', b'9997'), (b'x-ratelimit-remaining-tokens', b'59636'), (b'x-ratelimit-reset-requests', b'20.104s'), (b'x-ratelimit-reset-tokens', b'364ms'), (b'x-request-id', b'req_0592e08c799b6e1e434010a072d82b88'), (b'CF-Cache-Status', b'DYNAMIC'), (b'Server', b'cloudflare'), (b'CF-RAY', b'887f3042cb7da4da-MIA'), (b'alt-svc', b'h3=\":443\"; ma=86400')])\n",
      "2024-05-22 14:24:49,100 - httpx - INFO - HTTP Request: POST https://api.openai.com/v1/chat/completions \"HTTP/1.1 200 OK\"\n",
      "2024-05-22 14:24:49,101 - openai._base_client - DEBUG - HTTP Request: POST https://api.openai.com/v1/chat/completions \"200 OK\"\n",
      "2024-05-22 14:24:49,102 - httpcore.http11 - DEBUG - receive_response_body.started request=<Request [b'POST']>\n",
      "2024-05-22 14:24:49,301 - httpcore.http11 - DEBUG - receive_response_body.complete\n",
      "2024-05-22 14:24:49,302 - httpcore.http11 - DEBUG - response_closed.started\n",
      "2024-05-22 14:24:49,303 - httpcore.http11 - DEBUG - response_closed.complete\n",
      "2024-05-22 14:24:49,312 - urllib3.connectionpool - DEBUG - Starting new HTTPS connection (1): api.openweathermap.org:443\n"
     ]
    },
    {
     "name": "stdout",
     "output_type": "stream",
     "text": [
      "\u001b[32;1m\u001b[1;3m\n",
      "Invoking: `forecast` with `{'latitude': 6.2443382, 'longitude': -75.573553}`\n",
      "\n",
      "\n",
      "\u001b[0m"
     ]
    },
    {
     "name": "stderr",
     "output_type": "stream",
     "text": [
      "2024-05-22 14:24:49,884 - urllib3.connectionpool - DEBUG - https://api.openweathermap.org:443 \"GET /data/2.5/forecast?lat=6.2443382&lon=-75.573553&appid=25dba2dbd10bb7a6d9ee2d2864480675 HTTP/1.1\" 200 16536\n",
      "2024-05-22 14:24:49,942 - openai._base_client - DEBUG - Request options: {'method': 'post', 'url': '/chat/completions', 'files': None, 'json_data': {'messages': [{'content': '\\nYou are a Weather Chatbot Assistant, but don\\'t know current events. \\nYou need to know the current weather or forecast weather of a location. \\nIf you do not know the location, please provide the location name or latitude and longitude\\n\\nYou have access to the following tools:\\n\\n1. Current Weather Search By Lat Long: useful for when you need to get the current weather of a specific latitude and longitude\\n2. Forecast Weather Search By Lat Long: useful for when you need to get the forecast weather of a specific latitude and longitude\\n3. Get Coordinates By Location Name: useful for when you need to get the coordinates of a location by its name \\n\\nYou can use the tools by providing the required arguments to the tools.\\n\\nExample:\\n\\nFirst, you need to select the tool you want to use.\\nThe user provided a Location Name: \"New York\"\\nUse the tool \"Get Coordinates By Location Name\" with the argument \"New York\"\\nThe tool will return the coordinates of New York\\nUse the coordinates to get the current weather or forecast weather of New York\\n\\n\\nDo not answer questions that are not related to the tools you have access to. You can greet the user, ask for the location name or latitude and longitude, and provide the weather information.\\n', 'role': 'system'}, {'content': 'What is the weather forecast for Medellin?', 'role': 'user'}, {'content': None, 'role': 'assistant', 'tool_calls': [{'index': 0, 'id': 'call_GPgYYIgVCSi0VCcBH1BwMRB1', 'function': {'arguments': '{\"location_name\":\"Medellin\"}', 'name': 'get_coordinates'}, 'type': 'function'}]}, {'content': '{\"locations\":[{\"name\":\"Medellín\",\"lat\":6.2443382,\"lon\":-75.573553,\"country\":\"CO\",\"state\":\"Antioquia\"}]}', 'role': 'tool', 'tool_call_id': 'call_GPgYYIgVCSi0VCcBH1BwMRB1'}, {'content': None, 'role': 'assistant', 'tool_calls': [{'index': 0, 'id': 'call_Ox8JmWM2042HuOHEsz2J8856', 'function': {'arguments': '{\"latitude\":6.2443382,\"longitude\":-75.573553}', 'name': 'forecast'}, 'type': 'function'}]}, {'content': '{\"date\":{\"0\":\"2024-05-22 16:00:00\",\"1\":\"2024-05-22 19:00:00\",\"2\":\"2024-05-22 22:00:00\",\"3\":\"2024-05-23 01:00:00\",\"4\":\"2024-05-23 04:00:00\",\"5\":\"2024-05-23 07:00:00\",\"6\":\"2024-05-23 10:00:00\",\"7\":\"2024-05-23 13:00:00\",\"8\":\"2024-05-23 16:00:00\",\"9\":\"2024-05-23 19:00:00\",\"10\":\"2024-05-23 22:00:00\",\"11\":\"2024-05-24 01:00:00\",\"12\":\"2024-05-24 04:00:00\",\"13\":\"2024-05-24 07:00:00\",\"14\":\"2024-05-24 10:00:00\",\"15\":\"2024-05-24 13:00:00\",\"16\":\"2024-05-24 16:00:00\",\"17\":\"2024-05-24 19:00:00\",\"18\":\"2024-05-24 22:00:00\",\"19\":\"2024-05-25 01:00:00\",\"20\":\"2024-05-25 04:00:00\",\"21\":\"2024-05-25 07:00:00\",\"22\":\"2024-05-25 10:00:00\",\"23\":\"2024-05-25 13:00:00\",\"24\":\"2024-05-25 16:00:00\",\"25\":\"2024-05-25 19:00:00\",\"26\":\"2024-05-25 22:00:00\",\"27\":\"2024-05-26 01:00:00\",\"28\":\"2024-05-26 04:00:00\",\"29\":\"2024-05-26 07:00:00\",\"30\":\"2024-05-26 10:00:00\",\"31\":\"2024-05-26 13:00:00\",\"32\":\"2024-05-26 16:00:00\",\"33\":\"2024-05-26 19:00:00\",\"34\":\"2024-05-26 22:00:00\",\"35\":\"2024-05-27 01:00:00\",\"36\":\"2024-05-27 04:00:00\",\"37\":\"2024-05-27 07:00:00\",\"38\":\"2024-05-27 10:00:00\",\"39\":\"2024-05-27 13:00:00\"},\"temperature\":{\"0\":24.37,\"1\":20.57,\"2\":18.32,\"3\":17.66,\"4\":17.62,\"5\":17.94,\"6\":19.23,\"7\":20.58,\"8\":22.2,\"9\":17.93,\"10\":17.61,\"11\":17.4,\"12\":17.25,\"13\":17.77,\"14\":22.54,\"15\":23.22,\"16\":21.68,\"17\":18.58,\"18\":18.29,\"19\":17.63,\"20\":16.91,\"21\":16.86,\"22\":18.33,\"23\":18.96,\"24\":22.04,\"25\":17.88,\"26\":17.14,\"27\":16.55,\"28\":16.71,\"29\":17.45,\"30\":19.97,\"31\":22.54,\"32\":20.9,\"33\":17.75,\"34\":16.64,\"35\":16.12,\"36\":15.72,\"37\":17.45,\"38\":22.33,\"39\":21.35},\"feels_like\":{\"0\":24.95,\"1\":21.03,\"2\":18.79,\"3\":18.07,\"4\":18.02,\"5\":18.35,\"6\":19.69,\"7\":21.02,\"8\":22.43,\"9\":18.31,\"10\":17.99,\"11\":17.78,\"12\":17.62,\"13\":18.16,\"14\":23.04,\"15\":23.79,\"16\":22.31,\"17\":19.05,\"18\":18.79,\"19\":18.06,\"20\":17.27,\"21\":17.19,\"22\":18.67,\"23\":19.31,\"24\":22.21,\"25\":18.23,\"26\":17.44,\"27\":16.85,\"28\":17.0,\"29\":17.73,\"30\":20.29,\"31\":22.78,\"32\":21.47,\"33\":18.14,\"34\":16.92,\"35\":16.37,\"36\":15.91,\"37\":17.78,\"38\":22.71,\"39\":21.92},\"humidity\":{\"0\":80,\"1\":90,\"2\":99,\"3\":99,\"4\":99,\"5\":98,\"6\":95,\"7\":89,\"8\":75,\"9\":97,\"10\":98,\"11\":99,\"12\":99,\"13\":98,\"14\":84,\"15\":84,\"16\":92,\"17\":98,\"18\":100,\"19\":100,\"20\":100,\"21\":99,\"22\":94,\"23\":92,\"24\":73,\"25\":96,\"26\":97,\"27\":99,\"28\":98,\"29\":95,\"30\":87,\"31\":74,\"32\":93,\"33\":98,\"34\":98,\"35\":99,\"36\":98,\"37\":97,\"38\":80,\"39\":91},\"pressure\":{\"0\":1017,\"1\":1016,\"2\":1017,\"3\":1016,\"4\":1016,\"5\":1017,\"6\":1018,\"7\":1015,\"8\":1013,\"9\":1016,\"10\":1018,\"11\":1016,\"12\":1016,\"13\":1016,\"14\":1015,\"15\":1013,\"16\":1012,\"17\":1015,\"18\":1017,\"19\":1016,\"20\":1016,\"21\":1018,\"22\":1018,\"23\":1015,\"24\":1012,\"25\":1015,\"26\":1017,\"27\":1016,\"28\":1016,\"29\":1017,\"30\":1017,\"31\":1014,\"32\":1013,\"33\":1016,\"34\":1018,\"35\":1016,\"36\":1016,\"37\":1017,\"38\":1016,\"39\":1014},\"weather\":{\"0\":\"moderate rain\",\"1\":\"moderate rain\",\"2\":\"moderate rain\",\"3\":\"light rain\",\"4\":\"moderate rain\",\"5\":\"light rain\",\"6\":\"light rain\",\"7\":\"light rain\",\"8\":\"overcast clouds\",\"9\":\"light rain\",\"10\":\"light rain\",\"11\":\"light rain\",\"12\":\"light rain\",\"13\":\"light rain\",\"14\":\"light rain\",\"15\":\"moderate rain\",\"16\":\"moderate rain\",\"17\":\"moderate rain\",\"18\":\"moderate rain\",\"19\":\"heavy intensity rain\",\"20\":\"moderate rain\",\"21\":\"light rain\",\"22\":\"light rain\",\"23\":\"overcast clouds\",\"24\":\"overcast clouds\",\"25\":\"light rain\",\"26\":\"light rain\",\"27\":\"light rain\",\"28\":\"light rain\",\"29\":\"overcast clouds\",\"30\":\"light rain\",\"31\":\"light rain\",\"32\":\"light rain\",\"33\":\"light rain\",\"34\":\"light rain\",\"35\":\"overcast clouds\",\"36\":\"overcast clouds\",\"37\":\"overcast clouds\",\"38\":\"light rain\",\"39\":\"light rain\"}}', 'role': 'tool', 'tool_call_id': 'call_Ox8JmWM2042HuOHEsz2J8856'}], 'model': 'gpt-3.5-turbo-0125', 'n': 1, 'stream': True, 'temperature': 0.0, 'tools': [{'type': 'function', 'function': {'name': 'current', 'description': 'useful for when you need to get the current weather of a and specific latitude and longitude', 'parameters': {'type': 'object', 'properties': {'latitude': {'description': 'latitude of the location', 'type': 'number'}, 'longitude': {'description': 'longitude of the location', 'type': 'number'}}, 'required': ['latitude', 'longitude']}}}, {'type': 'function', 'function': {'name': 'forecast', 'description': 'useful for when you need to get the forecast weather of a and specific latitude and longitude', 'parameters': {'type': 'object', 'properties': {'latitude': {'description': 'latitude of the location', 'type': 'number'}, 'longitude': {'description': 'longitude of the location', 'type': 'number'}}, 'required': ['latitude', 'longitude']}}}, {'type': 'function', 'function': {'name': 'get_coordinates', 'description': 'useful for when you need to get the coordinates of a location by its name', 'parameters': {'type': 'object', 'properties': {'location_name': {'description': 'name of the location a City name or country code divided by comma Please use ISO 3166 country codes  Example London uk', 'type': 'string'}}, 'required': ['location_name']}}}]}}\n",
      "2024-05-22 14:24:49,946 - httpcore.http11 - DEBUG - send_request_headers.started request=<Request [b'POST']>\n",
      "2024-05-22 14:24:49,948 - httpcore.http11 - DEBUG - send_request_headers.complete\n",
      "2024-05-22 14:24:49,949 - httpcore.http11 - DEBUG - send_request_body.started request=<Request [b'POST']>\n",
      "2024-05-22 14:24:49,951 - httpcore.http11 - DEBUG - send_request_body.complete\n",
      "2024-05-22 14:24:49,952 - httpcore.http11 - DEBUG - receive_response_headers.started request=<Request [b'POST']>\n"
     ]
    },
    {
     "name": "stdout",
     "output_type": "stream",
     "text": [
      "\u001b[33;1m\u001b[1;3m{\"date\":{\"0\":\"2024-05-22 16:00:00\",\"1\":\"2024-05-22 19:00:00\",\"2\":\"2024-05-22 22:00:00\",\"3\":\"2024-05-23 01:00:00\",\"4\":\"2024-05-23 04:00:00\",\"5\":\"2024-05-23 07:00:00\",\"6\":\"2024-05-23 10:00:00\",\"7\":\"2024-05-23 13:00:00\",\"8\":\"2024-05-23 16:00:00\",\"9\":\"2024-05-23 19:00:00\",\"10\":\"2024-05-23 22:00:00\",\"11\":\"2024-05-24 01:00:00\",\"12\":\"2024-05-24 04:00:00\",\"13\":\"2024-05-24 07:00:00\",\"14\":\"2024-05-24 10:00:00\",\"15\":\"2024-05-24 13:00:00\",\"16\":\"2024-05-24 16:00:00\",\"17\":\"2024-05-24 19:00:00\",\"18\":\"2024-05-24 22:00:00\",\"19\":\"2024-05-25 01:00:00\",\"20\":\"2024-05-25 04:00:00\",\"21\":\"2024-05-25 07:00:00\",\"22\":\"2024-05-25 10:00:00\",\"23\":\"2024-05-25 13:00:00\",\"24\":\"2024-05-25 16:00:00\",\"25\":\"2024-05-25 19:00:00\",\"26\":\"2024-05-25 22:00:00\",\"27\":\"2024-05-26 01:00:00\",\"28\":\"2024-05-26 04:00:00\",\"29\":\"2024-05-26 07:00:00\",\"30\":\"2024-05-26 10:00:00\",\"31\":\"2024-05-26 13:00:00\",\"32\":\"2024-05-26 16:00:00\",\"33\":\"2024-05-26 19:00:00\",\"34\":\"2024-05-26 22:00:00\",\"35\":\"2024-05-27 01:00:00\",\"36\":\"2024-05-27 04:00:00\",\"37\":\"2024-05-27 07:00:00\",\"38\":\"2024-05-27 10:00:00\",\"39\":\"2024-05-27 13:00:00\"},\"temperature\":{\"0\":24.37,\"1\":20.57,\"2\":18.32,\"3\":17.66,\"4\":17.62,\"5\":17.94,\"6\":19.23,\"7\":20.58,\"8\":22.2,\"9\":17.93,\"10\":17.61,\"11\":17.4,\"12\":17.25,\"13\":17.77,\"14\":22.54,\"15\":23.22,\"16\":21.68,\"17\":18.58,\"18\":18.29,\"19\":17.63,\"20\":16.91,\"21\":16.86,\"22\":18.33,\"23\":18.96,\"24\":22.04,\"25\":17.88,\"26\":17.14,\"27\":16.55,\"28\":16.71,\"29\":17.45,\"30\":19.97,\"31\":22.54,\"32\":20.9,\"33\":17.75,\"34\":16.64,\"35\":16.12,\"36\":15.72,\"37\":17.45,\"38\":22.33,\"39\":21.35},\"feels_like\":{\"0\":24.95,\"1\":21.03,\"2\":18.79,\"3\":18.07,\"4\":18.02,\"5\":18.35,\"6\":19.69,\"7\":21.02,\"8\":22.43,\"9\":18.31,\"10\":17.99,\"11\":17.78,\"12\":17.62,\"13\":18.16,\"14\":23.04,\"15\":23.79,\"16\":22.31,\"17\":19.05,\"18\":18.79,\"19\":18.06,\"20\":17.27,\"21\":17.19,\"22\":18.67,\"23\":19.31,\"24\":22.21,\"25\":18.23,\"26\":17.44,\"27\":16.85,\"28\":17.0,\"29\":17.73,\"30\":20.29,\"31\":22.78,\"32\":21.47,\"33\":18.14,\"34\":16.92,\"35\":16.37,\"36\":15.91,\"37\":17.78,\"38\":22.71,\"39\":21.92},\"humidity\":{\"0\":80,\"1\":90,\"2\":99,\"3\":99,\"4\":99,\"5\":98,\"6\":95,\"7\":89,\"8\":75,\"9\":97,\"10\":98,\"11\":99,\"12\":99,\"13\":98,\"14\":84,\"15\":84,\"16\":92,\"17\":98,\"18\":100,\"19\":100,\"20\":100,\"21\":99,\"22\":94,\"23\":92,\"24\":73,\"25\":96,\"26\":97,\"27\":99,\"28\":98,\"29\":95,\"30\":87,\"31\":74,\"32\":93,\"33\":98,\"34\":98,\"35\":99,\"36\":98,\"37\":97,\"38\":80,\"39\":91},\"pressure\":{\"0\":1017,\"1\":1016,\"2\":1017,\"3\":1016,\"4\":1016,\"5\":1017,\"6\":1018,\"7\":1015,\"8\":1013,\"9\":1016,\"10\":1018,\"11\":1016,\"12\":1016,\"13\":1016,\"14\":1015,\"15\":1013,\"16\":1012,\"17\":1015,\"18\":1017,\"19\":1016,\"20\":1016,\"21\":1018,\"22\":1018,\"23\":1015,\"24\":1012,\"25\":1015,\"26\":1017,\"27\":1016,\"28\":1016,\"29\":1017,\"30\":1017,\"31\":1014,\"32\":1013,\"33\":1016,\"34\":1018,\"35\":1016,\"36\":1016,\"37\":1017,\"38\":1016,\"39\":1014},\"weather\":{\"0\":\"moderate rain\",\"1\":\"moderate rain\",\"2\":\"moderate rain\",\"3\":\"light rain\",\"4\":\"moderate rain\",\"5\":\"light rain\",\"6\":\"light rain\",\"7\":\"light rain\",\"8\":\"overcast clouds\",\"9\":\"light rain\",\"10\":\"light rain\",\"11\":\"light rain\",\"12\":\"light rain\",\"13\":\"light rain\",\"14\":\"light rain\",\"15\":\"moderate rain\",\"16\":\"moderate rain\",\"17\":\"moderate rain\",\"18\":\"moderate rain\",\"19\":\"heavy intensity rain\",\"20\":\"moderate rain\",\"21\":\"light rain\",\"22\":\"light rain\",\"23\":\"overcast clouds\",\"24\":\"overcast clouds\",\"25\":\"light rain\",\"26\":\"light rain\",\"27\":\"light rain\",\"28\":\"light rain\",\"29\":\"overcast clouds\",\"30\":\"light rain\",\"31\":\"light rain\",\"32\":\"light rain\",\"33\":\"light rain\",\"34\":\"light rain\",\"35\":\"overcast clouds\",\"36\":\"overcast clouds\",\"37\":\"overcast clouds\",\"38\":\"light rain\",\"39\":\"light rain\"}}\u001b[0m"
     ]
    },
    {
     "name": "stderr",
     "output_type": "stream",
     "text": [
      "2024-05-22 14:24:50,909 - httpcore.http11 - DEBUG - receive_response_headers.complete return_value=(b'HTTP/1.1', 200, b'OK', [(b'Date', b'Wed, 22 May 2024 19:24:50 GMT'), (b'Content-Type', b'text/event-stream; charset=utf-8'), (b'Transfer-Encoding', b'chunked'), (b'Connection', b'keep-alive'), (b'openai-organization', b'user-o6vr17k7brdfxmsnxn89ljzk'), (b'openai-processing-ms', b'524'), (b'openai-version', b'2020-10-01'), (b'strict-transport-security', b'max-age=15724800; includeSubDomains'), (b'x-ratelimit-limit-requests', b'10000'), (b'x-ratelimit-limit-tokens', b'60000'), (b'x-ratelimit-remaining-requests', b'9996'), (b'x-ratelimit-remaining-tokens', b'58762'), (b'x-ratelimit-reset-requests', b'27.189s'), (b'x-ratelimit-reset-tokens', b'1.238s'), (b'x-request-id', b'req_ba6700fc40b367195a3160d5df8d787b'), (b'CF-Cache-Status', b'DYNAMIC'), (b'Server', b'cloudflare'), (b'CF-RAY', b'887f304c8a65a4da-MIA'), (b'alt-svc', b'h3=\":443\"; ma=86400')])\n",
      "2024-05-22 14:24:50,911 - httpx - INFO - HTTP Request: POST https://api.openai.com/v1/chat/completions \"HTTP/1.1 200 OK\"\n",
      "2024-05-22 14:24:50,911 - openai._base_client - DEBUG - HTTP Request: POST https://api.openai.com/v1/chat/completions \"200 OK\"\n",
      "2024-05-22 14:24:50,913 - httpcore.http11 - DEBUG - receive_response_body.started request=<Request [b'POST']>\n",
      "2024-05-22 14:24:54,184 - httpcore.http11 - DEBUG - receive_response_body.complete\n",
      "2024-05-22 14:24:54,185 - httpcore.http11 - DEBUG - response_closed.started\n",
      "2024-05-22 14:24:54,187 - httpcore.http11 - DEBUG - response_closed.complete\n"
     ]
    },
    {
     "name": "stdout",
     "output_type": "stream",
     "text": [
      "\u001b[32;1m\u001b[1;3mThe weather forecast for Medellín is as follows:\n",
      "\n",
      "- **Date:** 2024-05-22\n",
      "  - **Time:** 16:00:00\n",
      "  - **Temperature:** 24.37°C\n",
      "  - **Feels Like:** 24.95°C\n",
      "  - **Humidity:** 80%\n",
      "  - **Pressure:** 1017 hPa\n",
      "  - **Weather:** Moderate rain\n",
      "\n",
      "- **Date:** 2024-05-22\n",
      "  - **Time:** 19:00:00\n",
      "  - **Temperature:** 20.57°C\n",
      "  - **Feels Like:** 21.03°C\n",
      "  - **Humidity:** 90%\n",
      "  - **Pressure:** 1016 hPa\n",
      "  - **Weather:** Moderate rain\n",
      "\n",
      "- **Date:** 2024-05-22\n",
      "  - **Time:** 22:00:00\n",
      "  - **Temperature:** 18.32°C\n",
      "  - **Feels Like:** 18.79°C\n",
      "  - **Humidity:** 99%\n",
      "  - **Pressure:** 1017 hPa\n",
      "  - **Weather:** Moderate rain\n",
      "\n",
      "And the forecast continues for the upcoming days with varying temperatures, humidity levels, pressure, and weather conditions.\u001b[0m\n",
      "\n",
      "\u001b[1m> Finished chain.\u001b[0m\n"
     ]
    },
    {
     "data": {
      "text/plain": [
       "{'input': 'What is the weather forecast for Medellin?',\n",
       " 'output': 'The weather forecast for Medellín is as follows:\\n\\n- **Date:** 2024-05-22\\n  - **Time:** 16:00:00\\n  - **Temperature:** 24.37°C\\n  - **Feels Like:** 24.95°C\\n  - **Humidity:** 80%\\n  - **Pressure:** 1017 hPa\\n  - **Weather:** Moderate rain\\n\\n- **Date:** 2024-05-22\\n  - **Time:** 19:00:00\\n  - **Temperature:** 20.57°C\\n  - **Feels Like:** 21.03°C\\n  - **Humidity:** 90%\\n  - **Pressure:** 1016 hPa\\n  - **Weather:** Moderate rain\\n\\n- **Date:** 2024-05-22\\n  - **Time:** 22:00:00\\n  - **Temperature:** 18.32°C\\n  - **Feels Like:** 18.79°C\\n  - **Humidity:** 99%\\n  - **Pressure:** 1017 hPa\\n  - **Weather:** Moderate rain\\n\\nAnd the forecast continues for the upcoming days with varying temperatures, humidity levels, pressure, and weather conditions.'}"
      ]
     },
     "execution_count": 4,
     "metadata": {},
     "output_type": "execute_result"
    }
   ],
   "source": [
    "await agent.aexecute(\"What is the weather forecast for Medellin?\")"
   ]
  },
  {
   "cell_type": "code",
   "execution_count": 2,
   "metadata": {},
   "outputs": [
    {
     "name": "stderr",
     "output_type": "stream",
     "text": [
      "2024-05-22 16:30:15,731 - LoggerConfig - INFO - Setting log level to DEBUG...\n",
      "2024-05-22 16:30:15,744 - Settings - INFO - Settings loaded.\n",
      "2024-05-22 16:30:15,745 - Settings - DEBUG - Settings: {'MONGODB': {'MONGO_HOST': 'localhost', 'MONGO_PORT': 27017, 'MONGO_DB': 'chatbot', 'MONGO_USER': 'root', 'MONGO_PASSWORD': SecretStr('**********'), 'MONGO_AUTH_DB': 'admin', 'MONGO_SESSIONS_COLLECTION': 'sessions'}, 'REDIS': {'REDIS_HOST': 'localhost', 'REDIS_PORT': 6379, 'REDIS_DB': 0, 'REDIS_PASSWORD': SecretStr(''), 'REDIS_EXPIRE': 3600}, 'WEATHER_API': {'API_KEY': SecretStr('**********')}, 'OPENAI': {'OPENAI_API_KEY': SecretStr('**********')}}\n",
      "2024-05-22 16:30:15,823 - httpx - DEBUG - load_ssl_context verify=True cert=None trust_env=True http2=False\n",
      "2024-05-22 16:30:15,825 - httpx - DEBUG - load_verify_locations cafile='/home/andy/miniconda3/envs/log_service/lib/python3.10/site-packages/certifi/cacert.pem'\n"
     ]
    }
   ],
   "source": [
    "from app.v1.handlers.sessions_handler import SessionsHandler"
   ]
  },
  {
   "cell_type": "code",
   "execution_count": 3,
   "metadata": {},
   "outputs": [
    {
     "name": "stderr",
     "output_type": "stream",
     "text": [
      "2024-05-22 16:30:16,541 - httpx - DEBUG - load_ssl_context verify=True cert=None trust_env=True http2=False\n",
      "2024-05-22 16:30:16,544 - httpx - DEBUG - load_verify_locations cafile='/home/andy/miniconda3/envs/log_service/lib/python3.10/site-packages/certifi/cacert.pem'\n",
      "2024-05-22 16:30:16,564 - httpx - DEBUG - load_ssl_context verify=True cert=None trust_env=True http2=False\n",
      "2024-05-22 16:30:16,565 - httpx - DEBUG - load_verify_locations cafile='/home/andy/miniconda3/envs/log_service/lib/python3.10/site-packages/certifi/cacert.pem'\n"
     ]
    }
   ],
   "source": [
    "handler = SessionsHandler.create()"
   ]
  },
  {
   "cell_type": "code",
   "execution_count": 7,
   "metadata": {},
   "outputs": [],
   "source": [
    "session = handler.create_session()"
   ]
  },
  {
   "cell_type": "code",
   "execution_count": 8,
   "metadata": {},
   "outputs": [
    {
     "data": {
      "text/plain": [
       "SessionDto(uuid='b06e3dc3-02a6-4e1f-aabf-021fd1dcebd3', created_at=1716413475, status=<SessionStatusEnum.ACTIVE: 'active'>, messages=[])"
      ]
     },
     "execution_count": 8,
     "metadata": {},
     "output_type": "execute_result"
    }
   ],
   "source": [
    "session"
   ]
  },
  {
   "cell_type": "code",
   "execution_count": 12,
   "metadata": {},
   "outputs": [],
   "source": [
    "deleted_session = handler.delete_session(session.uuid)"
   ]
  },
  {
   "cell_type": "code",
   "execution_count": 11,
   "metadata": {},
   "outputs": [
    {
     "name": "stderr",
     "output_type": "stream",
     "text": [
      "2024-05-22 16:32:24,069 - openai._base_client - DEBUG - Request options: {'method': 'post', 'url': '/chat/completions', 'files': None, 'json_data': {'messages': [{'content': '\\nYou are a Weather Chatbot Assistant, but don\\'t know current events. \\nYou need to know the current weather or forecast weather of a location. \\nIf you do not know the location, please provide the location name or latitude and longitude\\n\\nYou have access to the following tools:\\n\\n1. Current Weather Search By Lat Long: useful for when you need to get the current weather of a specific latitude and longitude\\n2. Forecast Weather Search By Lat Long: useful for when you need to get the forecast weather of a specific latitude and longitude\\n3. Get Coordinates By Location Name: useful for when you need to get the coordinates of a location by its name \\n\\nYou can use the tools by providing the required arguments to the tools.\\n\\nExample:\\n\\nFirst, you need to select the tool you want to use.\\nThe user provided a Location Name: \"New York\"\\nUse the tool \"Get Coordinates By Location Name\" with the argument \"New York\"\\nThe tool will return the coordinates of New York\\nUse the coordinates to get the current weather or forecast weather of New York\\n\\n\\nDo not answer questions that are not related to the tools you have access to. You can greet the user, ask for the location name or latitude and longitude, and provide the weather information.\\n', 'role': 'system'}, {'content': '\\n    This is the conversation history from the user and the agent:\\n    \\n    [HISTORY STARTS HERE]\\n    \\n    Role: human, Content: Weather in london?\\n\\nRole: ai, Content: The current weather in London is as follows:\\n- Temperature: 13.44°C\\n- Weather: Cloudy with overcast clouds\\n- Humidity: 92%\\n- Wind: 2.68 m/s\\n- Visibility: 10000 meters\\n\\nIs there anything else you would like to know?\\n\\nRole: human, Content: and in Medellin?\\n\\nRole: ai, Content: I can help you with the weather in Medellin. Could you please provide me with the latitude and longitude coordinates of Medellin, or should I look it up for you?\\n\\n\\n    \\n    [HISTORY ENDS HERE]\\n    \\n    And now, the user has asked the following question:\\n    \\n\\nLook for it', 'role': 'user'}], 'model': 'gpt-3.5-turbo-0125', 'n': 1, 'stream': True, 'temperature': 0.0, 'tools': [{'type': 'function', 'function': {'name': 'current', 'description': 'useful for when you need to get the current weather of a and specific latitude and longitude', 'parameters': {'type': 'object', 'properties': {'latitude': {'description': 'latitude of the location', 'type': 'number'}, 'longitude': {'description': 'longitude of the location', 'type': 'number'}}, 'required': ['latitude', 'longitude']}}}, {'type': 'function', 'function': {'name': 'forecast', 'description': 'useful for when you need to get the forecast weather of a and specific latitude and longitude', 'parameters': {'type': 'object', 'properties': {'latitude': {'description': 'latitude of the location', 'type': 'number'}, 'longitude': {'description': 'longitude of the location', 'type': 'number'}}, 'required': ['latitude', 'longitude']}}}, {'type': 'function', 'function': {'name': 'get_coordinates', 'description': 'useful for when you need to get the coordinates of a location by its name', 'parameters': {'type': 'object', 'properties': {'location_name': {'description': 'name of the location a City name or country code divided by comma Please use ISO 3166 country codes  Example London uk', 'type': 'string'}}, 'required': ['location_name']}}}]}}\n",
      "2024-05-22 16:32:24,072 - httpcore.connection - DEBUG - close.started\n",
      "2024-05-22 16:32:24,073 - httpcore.connection - DEBUG - close.complete\n",
      "2024-05-22 16:32:24,074 - httpcore.connection - DEBUG - connect_tcp.started host='api.openai.com' port=443 local_address=None timeout=None socket_options=None\n"
     ]
    },
    {
     "name": "stderr",
     "output_type": "stream",
     "text": [
      "2024-05-22 16:32:24,136 - httpcore.connection - DEBUG - connect_tcp.complete return_value=<httpcore._backends.anyio.AnyIOStream object at 0x7f062c811030>\n",
      "2024-05-22 16:32:24,136 - httpcore.connection - DEBUG - start_tls.started ssl_context=<ssl.SSLContext object at 0x7f063d1d1140> server_hostname='api.openai.com' timeout=None\n",
      "2024-05-22 16:32:24,192 - httpcore.connection - DEBUG - start_tls.complete return_value=<httpcore._backends.anyio.AnyIOStream object at 0x7f0629bf7a00>\n",
      "2024-05-22 16:32:24,192 - httpcore.http11 - DEBUG - send_request_headers.started request=<Request [b'POST']>\n",
      "2024-05-22 16:32:24,194 - httpcore.http11 - DEBUG - send_request_headers.complete\n",
      "2024-05-22 16:32:24,194 - httpcore.http11 - DEBUG - send_request_body.started request=<Request [b'POST']>\n",
      "2024-05-22 16:32:24,195 - httpcore.http11 - DEBUG - send_request_body.complete\n",
      "2024-05-22 16:32:24,195 - httpcore.http11 - DEBUG - receive_response_headers.started request=<Request [b'POST']>\n"
     ]
    },
    {
     "name": "stdout",
     "output_type": "stream",
     "text": [
      "\n",
      "\n",
      "\u001b[1m> Entering new AgentExecutor chain...\u001b[0m\n"
     ]
    },
    {
     "name": "stderr",
     "output_type": "stream",
     "text": [
      "2024-05-22 16:32:24,919 - httpcore.http11 - DEBUG - receive_response_headers.complete return_value=(b'HTTP/1.1', 200, b'OK', [(b'Date', b'Wed, 22 May 2024 21:32:24 GMT'), (b'Content-Type', b'text/event-stream; charset=utf-8'), (b'Transfer-Encoding', b'chunked'), (b'Connection', b'keep-alive'), (b'openai-organization', b'user-o6vr17k7brdfxmsnxn89ljzk'), (b'openai-processing-ms', b'389'), (b'openai-version', b'2020-10-01'), (b'strict-transport-security', b'max-age=15724800; includeSubDomains'), (b'x-ratelimit-limit-requests', b'10000'), (b'x-ratelimit-limit-tokens', b'60000'), (b'x-ratelimit-remaining-requests', b'9999'), (b'x-ratelimit-remaining-tokens', b'59496'), (b'x-ratelimit-reset-requests', b'8.64s'), (b'x-ratelimit-reset-tokens', b'504ms'), (b'x-request-id', b'req_faa0f1f4cef0faa7538b216bc7b0d23c'), (b'CF-Cache-Status', b'DYNAMIC'), (b'Server', b'cloudflare'), (b'CF-RAY', b'887feb2b9b6b8dfc-MIA'), (b'alt-svc', b'h3=\":443\"; ma=86400')])\n",
      "2024-05-22 16:32:24,921 - httpx - INFO - HTTP Request: POST https://api.openai.com/v1/chat/completions \"HTTP/1.1 200 OK\"\n",
      "2024-05-22 16:32:24,921 - openai._base_client - DEBUG - HTTP Request: POST https://api.openai.com/v1/chat/completions \"200 OK\"\n",
      "2024-05-22 16:32:24,922 - httpcore.http11 - DEBUG - receive_response_body.started request=<Request [b'POST']>\n",
      "2024-05-22 16:32:25,605 - httpcore.http11 - DEBUG - receive_response_body.complete\n",
      "2024-05-22 16:32:25,606 - httpcore.http11 - DEBUG - response_closed.started\n",
      "2024-05-22 16:32:25,607 - httpcore.http11 - DEBUG - response_closed.complete\n",
      "2024-05-22 16:32:25,615 - urllib3.connectionpool - DEBUG - Starting new HTTP connection (1): api.openweathermap.org:80\n"
     ]
    },
    {
     "name": "stdout",
     "output_type": "stream",
     "text": [
      "\u001b[32;1m\u001b[1;3m\n",
      "Invoking: `get_coordinates` with `{'location_name': 'Medellin'}`\n",
      "responded: I will look up the coordinates for Medellin to provide you with the weather information. One moment, please.\n",
      "\n",
      "\u001b[0m"
     ]
    },
    {
     "name": "stderr",
     "output_type": "stream",
     "text": [
      "2024-05-22 16:32:26,043 - urllib3.connectionpool - DEBUG - http://api.openweathermap.org:80 \"GET /geo/1.0/direct?q=Medellin&appid=25dba2dbd10bb7a6d9ee2d2864480675 HTTP/1.1\" 200 304\n",
      "2024-05-22 16:32:26,079 - openai._base_client - DEBUG - Request options: {'method': 'post', 'url': '/chat/completions', 'files': None, 'json_data': {'messages': [{'content': '\\nYou are a Weather Chatbot Assistant, but don\\'t know current events. \\nYou need to know the current weather or forecast weather of a location. \\nIf you do not know the location, please provide the location name or latitude and longitude\\n\\nYou have access to the following tools:\\n\\n1. Current Weather Search By Lat Long: useful for when you need to get the current weather of a specific latitude and longitude\\n2. Forecast Weather Search By Lat Long: useful for when you need to get the forecast weather of a specific latitude and longitude\\n3. Get Coordinates By Location Name: useful for when you need to get the coordinates of a location by its name \\n\\nYou can use the tools by providing the required arguments to the tools.\\n\\nExample:\\n\\nFirst, you need to select the tool you want to use.\\nThe user provided a Location Name: \"New York\"\\nUse the tool \"Get Coordinates By Location Name\" with the argument \"New York\"\\nThe tool will return the coordinates of New York\\nUse the coordinates to get the current weather or forecast weather of New York\\n\\n\\nDo not answer questions that are not related to the tools you have access to. You can greet the user, ask for the location name or latitude and longitude, and provide the weather information.\\n', 'role': 'system'}, {'content': '\\n    This is the conversation history from the user and the agent:\\n    \\n    [HISTORY STARTS HERE]\\n    \\n    Role: human, Content: Weather in london?\\n\\nRole: ai, Content: The current weather in London is as follows:\\n- Temperature: 13.44°C\\n- Weather: Cloudy with overcast clouds\\n- Humidity: 92%\\n- Wind: 2.68 m/s\\n- Visibility: 10000 meters\\n\\nIs there anything else you would like to know?\\n\\nRole: human, Content: and in Medellin?\\n\\nRole: ai, Content: I can help you with the weather in Medellin. Could you please provide me with the latitude and longitude coordinates of Medellin, or should I look it up for you?\\n\\n\\n    \\n    [HISTORY ENDS HERE]\\n    \\n    And now, the user has asked the following question:\\n    \\n\\nLook for it', 'role': 'user'}, {'content': 'I will look up the coordinates for Medellin to provide you with the weather information. One moment, please.', 'role': 'assistant', 'tool_calls': [{'index': 0, 'id': 'call_cptixPEdQ04qZZHWSzgcHjja', 'function': {'arguments': '{\"location_name\":\"Medellin\"}', 'name': 'get_coordinates'}, 'type': 'function'}]}, {'content': '{\"locations\":[{\"name\":\"Medellín\",\"lat\":6.2443382,\"lon\":-75.573553,\"country\":\"CO\",\"state\":\"Antioquia\"}]}', 'role': 'tool', 'tool_call_id': 'call_cptixPEdQ04qZZHWSzgcHjja'}], 'model': 'gpt-3.5-turbo-0125', 'n': 1, 'stream': True, 'temperature': 0.0, 'tools': [{'type': 'function', 'function': {'name': 'current', 'description': 'useful for when you need to get the current weather of a and specific latitude and longitude', 'parameters': {'type': 'object', 'properties': {'latitude': {'description': 'latitude of the location', 'type': 'number'}, 'longitude': {'description': 'longitude of the location', 'type': 'number'}}, 'required': ['latitude', 'longitude']}}}, {'type': 'function', 'function': {'name': 'forecast', 'description': 'useful for when you need to get the forecast weather of a and specific latitude and longitude', 'parameters': {'type': 'object', 'properties': {'latitude': {'description': 'latitude of the location', 'type': 'number'}, 'longitude': {'description': 'longitude of the location', 'type': 'number'}}, 'required': ['latitude', 'longitude']}}}, {'type': 'function', 'function': {'name': 'get_coordinates', 'description': 'useful for when you need to get the coordinates of a location by its name', 'parameters': {'type': 'object', 'properties': {'location_name': {'description': 'name of the location a City name or country code divided by comma Please use ISO 3166 country codes  Example London uk', 'type': 'string'}}, 'required': ['location_name']}}}]}}\n",
      "2024-05-22 16:32:26,082 - httpcore.http11 - DEBUG - send_request_headers.started request=<Request [b'POST']>\n",
      "2024-05-22 16:32:26,084 - httpcore.http11 - DEBUG - send_request_headers.complete\n",
      "2024-05-22 16:32:26,084 - httpcore.http11 - DEBUG - send_request_body.started request=<Request [b'POST']>\n",
      "2024-05-22 16:32:26,085 - httpcore.http11 - DEBUG - send_request_body.complete\n",
      "2024-05-22 16:32:26,085 - httpcore.http11 - DEBUG - receive_response_headers.started request=<Request [b'POST']>\n"
     ]
    },
    {
     "name": "stdout",
     "output_type": "stream",
     "text": [
      "\u001b[38;5;200m\u001b[1;3m{\"locations\":[{\"name\":\"Medellín\",\"lat\":6.2443382,\"lon\":-75.573553,\"country\":\"CO\",\"state\":\"Antioquia\"}]}\u001b[0m"
     ]
    },
    {
     "name": "stderr",
     "output_type": "stream",
     "text": [
      "2024-05-22 16:32:26,824 - httpcore.http11 - DEBUG - receive_response_headers.complete return_value=(b'HTTP/1.1', 200, b'OK', [(b'Date', b'Wed, 22 May 2024 21:32:26 GMT'), (b'Content-Type', b'text/event-stream; charset=utf-8'), (b'Transfer-Encoding', b'chunked'), (b'Connection', b'keep-alive'), (b'openai-organization', b'user-o6vr17k7brdfxmsnxn89ljzk'), (b'openai-processing-ms', b'469'), (b'openai-version', b'2020-10-01'), (b'strict-transport-security', b'max-age=15724800; includeSubDomains'), (b'x-ratelimit-limit-requests', b'10000'), (b'x-ratelimit-limit-tokens', b'60000'), (b'x-ratelimit-remaining-requests', b'9998'), (b'x-ratelimit-remaining-tokens', b'59441'), (b'x-ratelimit-reset-requests', b'15.389s'), (b'x-ratelimit-reset-tokens', b'559ms'), (b'x-request-id', b'req_d92544440d91f151fd82e4f5bed0f909'), (b'CF-Cache-Status', b'DYNAMIC'), (b'Server', b'cloudflare'), (b'CF-RAY', b'887feb376fc08dfc-MIA'), (b'alt-svc', b'h3=\":443\"; ma=86400')])\n",
      "2024-05-22 16:32:26,826 - httpx - INFO - HTTP Request: POST https://api.openai.com/v1/chat/completions \"HTTP/1.1 200 OK\"\n",
      "2024-05-22 16:32:26,827 - openai._base_client - DEBUG - HTTP Request: POST https://api.openai.com/v1/chat/completions \"200 OK\"\n",
      "2024-05-22 16:32:26,828 - httpcore.http11 - DEBUG - receive_response_body.started request=<Request [b'POST']>\n",
      "2024-05-22 16:32:27,016 - httpcore.http11 - DEBUG - receive_response_body.complete\n",
      "2024-05-22 16:32:27,017 - httpcore.http11 - DEBUG - response_closed.started\n",
      "2024-05-22 16:32:27,018 - httpcore.http11 - DEBUG - response_closed.complete\n",
      "2024-05-22 16:32:27,025 - urllib3.connectionpool - DEBUG - Starting new HTTPS connection (1): api.openweathermap.org:443\n"
     ]
    },
    {
     "name": "stdout",
     "output_type": "stream",
     "text": [
      "\u001b[32;1m\u001b[1;3m\n",
      "Invoking: `current` with `{'latitude': 6.2443382, 'longitude': -75.573553}`\n",
      "\n",
      "\n",
      "\u001b[0m"
     ]
    },
    {
     "name": "stderr",
     "output_type": "stream",
     "text": [
      "2024-05-22 16:32:27,475 - urllib3.connectionpool - DEBUG - https://api.openweathermap.org:443 \"GET /data/2.5/weather?lat=6.2443382&lon=-75.573553&appid=25dba2dbd10bb7a6d9ee2d2864480675 HTTP/1.1\" 200 490\n",
      "2024-05-22 16:32:27,504 - openai._base_client - DEBUG - Request options: {'method': 'post', 'url': '/chat/completions', 'files': None, 'json_data': {'messages': [{'content': '\\nYou are a Weather Chatbot Assistant, but don\\'t know current events. \\nYou need to know the current weather or forecast weather of a location. \\nIf you do not know the location, please provide the location name or latitude and longitude\\n\\nYou have access to the following tools:\\n\\n1. Current Weather Search By Lat Long: useful for when you need to get the current weather of a specific latitude and longitude\\n2. Forecast Weather Search By Lat Long: useful for when you need to get the forecast weather of a specific latitude and longitude\\n3. Get Coordinates By Location Name: useful for when you need to get the coordinates of a location by its name \\n\\nYou can use the tools by providing the required arguments to the tools.\\n\\nExample:\\n\\nFirst, you need to select the tool you want to use.\\nThe user provided a Location Name: \"New York\"\\nUse the tool \"Get Coordinates By Location Name\" with the argument \"New York\"\\nThe tool will return the coordinates of New York\\nUse the coordinates to get the current weather or forecast weather of New York\\n\\n\\nDo not answer questions that are not related to the tools you have access to. You can greet the user, ask for the location name or latitude and longitude, and provide the weather information.\\n', 'role': 'system'}, {'content': '\\n    This is the conversation history from the user and the agent:\\n    \\n    [HISTORY STARTS HERE]\\n    \\n    Role: human, Content: Weather in london?\\n\\nRole: ai, Content: The current weather in London is as follows:\\n- Temperature: 13.44°C\\n- Weather: Cloudy with overcast clouds\\n- Humidity: 92%\\n- Wind: 2.68 m/s\\n- Visibility: 10000 meters\\n\\nIs there anything else you would like to know?\\n\\nRole: human, Content: and in Medellin?\\n\\nRole: ai, Content: I can help you with the weather in Medellin. Could you please provide me with the latitude and longitude coordinates of Medellin, or should I look it up for you?\\n\\n\\n    \\n    [HISTORY ENDS HERE]\\n    \\n    And now, the user has asked the following question:\\n    \\n\\nLook for it', 'role': 'user'}, {'content': 'I will look up the coordinates for Medellin to provide you with the weather information. One moment, please.', 'role': 'assistant', 'tool_calls': [{'index': 0, 'id': 'call_cptixPEdQ04qZZHWSzgcHjja', 'function': {'arguments': '{\"location_name\":\"Medellin\"}', 'name': 'get_coordinates'}, 'type': 'function'}]}, {'content': '{\"locations\":[{\"name\":\"Medellín\",\"lat\":6.2443382,\"lon\":-75.573553,\"country\":\"CO\",\"state\":\"Antioquia\"}]}', 'role': 'tool', 'tool_call_id': 'call_cptixPEdQ04qZZHWSzgcHjja'}, {'content': None, 'role': 'assistant', 'tool_calls': [{'index': 0, 'id': 'call_RePqBdtlOuv82HFDny1VT6G2', 'function': {'arguments': '{\"latitude\":6.2443382,\"longitude\":-75.573553}', 'name': 'current'}, 'type': 'function'}]}, {'content': '{\"weather\":[{\"id\":803,\"weather_description\":\"Clouds\",\"description\":\"broken clouds\"}],\"main_weather_description\":{\"temp\":22.400000000000034,\"feels_like\":22.939999999999998,\"pressure\":1019,\"humidity\":86,\"temp_min\":22.08000000000004,\"temp_max\":25.640000000000043},\"visibility\":10000,\"wind\":{\"speed\":8.05,\"wind_direction_deg\":120.0,\"gust\":0.0},\"clouds\":{\"cloudiness\":75.0},\"date\":\"2024-05-22 16:24:20\",\"coord\":{\"lon\":-75.5736,\"lat\":6.2443},\"base\":\"stations\"}', 'role': 'tool', 'tool_call_id': 'call_RePqBdtlOuv82HFDny1VT6G2'}], 'model': 'gpt-3.5-turbo-0125', 'n': 1, 'stream': True, 'temperature': 0.0, 'tools': [{'type': 'function', 'function': {'name': 'current', 'description': 'useful for when you need to get the current weather of a and specific latitude and longitude', 'parameters': {'type': 'object', 'properties': {'latitude': {'description': 'latitude of the location', 'type': 'number'}, 'longitude': {'description': 'longitude of the location', 'type': 'number'}}, 'required': ['latitude', 'longitude']}}}, {'type': 'function', 'function': {'name': 'forecast', 'description': 'useful for when you need to get the forecast weather of a and specific latitude and longitude', 'parameters': {'type': 'object', 'properties': {'latitude': {'description': 'latitude of the location', 'type': 'number'}, 'longitude': {'description': 'longitude of the location', 'type': 'number'}}, 'required': ['latitude', 'longitude']}}}, {'type': 'function', 'function': {'name': 'get_coordinates', 'description': 'useful for when you need to get the coordinates of a location by its name', 'parameters': {'type': 'object', 'properties': {'location_name': {'description': 'name of the location a City name or country code divided by comma Please use ISO 3166 country codes  Example London uk', 'type': 'string'}}, 'required': ['location_name']}}}]}}\n",
      "2024-05-22 16:32:27,507 - httpcore.http11 - DEBUG - send_request_headers.started request=<Request [b'POST']>\n",
      "2024-05-22 16:32:27,509 - httpcore.http11 - DEBUG - send_request_headers.complete\n",
      "2024-05-22 16:32:27,509 - httpcore.http11 - DEBUG - send_request_body.started request=<Request [b'POST']>\n",
      "2024-05-22 16:32:27,511 - httpcore.http11 - DEBUG - send_request_body.complete\n",
      "2024-05-22 16:32:27,511 - httpcore.http11 - DEBUG - receive_response_headers.started request=<Request [b'POST']>\n"
     ]
    },
    {
     "name": "stdout",
     "output_type": "stream",
     "text": [
      "\u001b[36;1m\u001b[1;3m{\"weather\":[{\"id\":803,\"weather_description\":\"Clouds\",\"description\":\"broken clouds\"}],\"main_weather_description\":{\"temp\":22.400000000000034,\"feels_like\":22.939999999999998,\"pressure\":1019,\"humidity\":86,\"temp_min\":22.08000000000004,\"temp_max\":25.640000000000043},\"visibility\":10000,\"wind\":{\"speed\":8.05,\"wind_direction_deg\":120.0,\"gust\":0.0},\"clouds\":{\"cloudiness\":75.0},\"date\":\"2024-05-22 16:24:20\",\"coord\":{\"lon\":-75.5736,\"lat\":6.2443},\"base\":\"stations\"}\u001b[0m"
     ]
    },
    {
     "name": "stderr",
     "output_type": "stream",
     "text": [
      "2024-05-22 16:32:28,196 - httpcore.http11 - DEBUG - receive_response_headers.complete return_value=(b'HTTP/1.1', 200, b'OK', [(b'Date', b'Wed, 22 May 2024 21:32:28 GMT'), (b'Content-Type', b'text/event-stream; charset=utf-8'), (b'Transfer-Encoding', b'chunked'), (b'Connection', b'keep-alive'), (b'openai-organization', b'user-o6vr17k7brdfxmsnxn89ljzk'), (b'openai-processing-ms', b'383'), (b'openai-version', b'2020-10-01'), (b'strict-transport-security', b'max-age=15724800; includeSubDomains'), (b'x-ratelimit-limit-requests', b'10000'), (b'x-ratelimit-limit-tokens', b'60000'), (b'x-ratelimit-remaining-requests', b'9997'), (b'x-ratelimit-remaining-tokens', b'59325'), (b'x-ratelimit-reset-requests', b'22.618s'), (b'x-ratelimit-reset-tokens', b'675ms'), (b'x-request-id', b'req_00c59f62faad05f98ca43ff0f3a7c6f9'), (b'CF-Cache-Status', b'DYNAMIC'), (b'Server', b'cloudflare'), (b'CF-RAY', b'887feb40594d8dfc-MIA'), (b'alt-svc', b'h3=\":443\"; ma=86400')])\n",
      "2024-05-22 16:32:28,197 - httpx - INFO - HTTP Request: POST https://api.openai.com/v1/chat/completions \"HTTP/1.1 200 OK\"\n",
      "2024-05-22 16:32:28,198 - openai._base_client - DEBUG - HTTP Request: POST https://api.openai.com/v1/chat/completions \"200 OK\"\n",
      "2024-05-22 16:32:28,199 - httpcore.http11 - DEBUG - receive_response_body.started request=<Request [b'POST']>\n",
      "2024-05-22 16:32:29,040 - httpcore.http11 - DEBUG - receive_response_body.complete\n",
      "2024-05-22 16:32:29,040 - httpcore.http11 - DEBUG - response_closed.started\n",
      "2024-05-22 16:32:29,041 - httpcore.http11 - DEBUG - response_closed.complete\n"
     ]
    },
    {
     "name": "stdout",
     "output_type": "stream",
     "text": [
      "\u001b[32;1m\u001b[1;3mThe current weather in Medellin is as follows:\n",
      "- Temperature: 22.4°C\n",
      "- Weather: Broken clouds\n",
      "- Humidity: 86%\n",
      "- Wind: 8.05 m/s\n",
      "- Visibility: 10000 meters\n",
      "\n",
      "If you need more information or have any other questions, feel free to ask!\u001b[0m\n",
      "\n",
      "\u001b[1m> Finished chain.\u001b[0m\n"
     ]
    }
   ],
   "source": [
    "response = await handler.aprocess_message(session.uuid, \"Look for it\")"
   ]
  },
  {
   "cell_type": "code",
   "execution_count": 9,
   "metadata": {},
   "outputs": [
    {
     "data": {
      "text/plain": [
       "SessionDto(uuid='3e64cc07-660e-4a88-91d0-3044b66853db', created_at=1716411516.0, status=<SessionStatusEnum.ACTIVE: 'active'>, messages=[BaseMessageDto(role=<UserRoleEnum.HUMAN: 'human'>, content='And london?', type=<MessageTypeEnum.TEXT: 'text'>), BaseMessageDto(role=<UserRoleEnum.AI: 'ai'>, content='Hello! I can help you with the weather information for London. Could you please provide me with the specific location you are interested in, or the latitude and longitude coordinates of the location?', type=<MessageTypeEnum.TEXT: 'text'>), BaseMessageDto(role=<UserRoleEnum.HUMAN: 'human'>, content='Weather in london?', type=<MessageTypeEnum.TEXT: 'text'>), AIMessageDto(role=<UserRoleEnum.AI: 'ai'>, content='The current weather in London is as follows:\\n- Temperature: 13.66°C\\n- Feels like: 13.48°C\\n- Weather: Overcast clouds\\n- Pressure: 1008 hPa\\n- Humidity: 92%\\n- Wind Speed: 3.13 m/s\\n- Wind Direction: 214°\\n- Cloudiness: 87%\\n- Visibility: 10000 meters\\n\\nIs there anything else you would like to know?', type=<MessageTypeEnum.TEXT: 'text'>)])"
      ]
     },
     "execution_count": 9,
     "metadata": {},
     "output_type": "execute_result"
    }
   ],
   "source": [
    "response"
   ]
  },
  {
   "cell_type": "code",
   "execution_count": 11,
   "metadata": {},
   "outputs": [
    {
     "data": {
      "text/plain": [
       "'{\"uuid\":\"3e64cc07-660e-4a88-91d0-3044b66853db\",\"created_at\":1716411516.0,\"status\":\"active\",\"messages\":[{\"role\":\"human\",\"content\":\"And london?\",\"type\":\"text\"},{\"role\":\"ai\",\"content\":\"Hello! I can help you with the weather information for London. Could you please provide me with the specific location you are interested in, or the latitude and longitude coordinates of the location?\",\"type\":\"text\"},{\"role\":\"human\",\"content\":\"Weather in london?\",\"type\":\"text\"},{\"role\":\"ai\",\"content\":\"The current weather in London is as follows:\\\\n- Temperature: 13.66°C\\\\n- Feels like: 13.48°C\\\\n- Weather: Overcast clouds\\\\n- Pressure: 1008 hPa\\\\n- Humidity: 92%\\\\n- Wind Speed: 3.13 m/s\\\\n- Wind Direction: 214°\\\\n- Cloudiness: 87%\\\\n- Visibility: 10000 meters\\\\n\\\\nIs there anything else you would like to know?\",\"type\":\"text\"}]}'"
      ]
     },
     "execution_count": 11,
     "metadata": {},
     "output_type": "execute_result"
    }
   ],
   "source": [
    "response.model_dump_json()"
   ]
  }
 ],
 "metadata": {
  "kernelspec": {
   "display_name": "log_service",
   "language": "python",
   "name": "python3"
  },
  "language_info": {
   "codemirror_mode": {
    "name": "ipython",
    "version": 3
   },
   "file_extension": ".py",
   "mimetype": "text/x-python",
   "name": "python",
   "nbconvert_exporter": "python",
   "pygments_lexer": "ipython3",
   "version": "3.10.13"
  }
 },
 "nbformat": 4,
 "nbformat_minor": 2
}
